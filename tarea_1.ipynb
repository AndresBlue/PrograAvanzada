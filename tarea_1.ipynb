{
 "cells": [
  {
   "cell_type": "markdown",
   "metadata": {},
   "source": [
    "### 1. ¿Qué es un paradigma de programación?\n",
    "\n",
    "Un paradigma de programación es un enfoque o estilo que guía el diseño y la estructura de programas de computadora. Define un conjunto de principios y metodologías que los programadores siguen al escribir código para resolver problemas. Los paradigmas de programación determinan cómo se estructuran los programas y cómo se deben organizar las instrucciones para ejecutar un programa. Estos se desglosan de una programación imperativa y declarativa.\n",
    "\n",
    "Existen principalmente 2 paradigmas:\n",
    "\n",
    "- Programación Funcional\n",
    "- Programación Orientada a Objetos (POO en español - OOP en inglés)\n",
    "\n",
    "\n",
    "### 2. ¿En qué se basa la programación orientada a objetos?\n",
    "\n",
    "La programación orientada a objetos es un paradigma de programación que se basa en el concepto de \"objetos\", los cuales representan entidades o cosas del mundo real. Cada objeto es una instancia de una \"clase\" que define tanto los atributos (propiedades o datos) como los métodos (funciones o comportamientos) que ese objeto puede tener.\n",
    "\n",
    "Se basa en 4 principios fundamentales:\n",
    "\n",
    "- Encapsulamiento\n",
    "- Herencia\n",
    "- Polimorfismo\n",
    "- Abstracción\n",
    "\n",
    "### 3. ¿Cuál es la diferencia entre recursividad e iteración, y cómo se relaciona esto con la notación big 𝑂?\n",
    "\n",
    "La **recursividad** es una técnica en la que una función se llama a sí misma para resolver un problema, dividiéndolo en subproblemas más pequeños hasta alcanzar una condición base. Por otro lado, la iteración utiliza estructuras de control como bucles (for, while) para repetir un bloque de código hasta cumplir una condición determinada.\n",
    "\n",
    "En términos de complejidad computacional (notación Big O), la recursividad y la iteración pueden tener la misma eficiencia para ciertos problemas, pero no siempre. Un algoritmo recursivo mal diseñado puede generar un gran número de llamadas, aumentando la complejidad a niveles no deseados (ej., $O(2^n)$), mientras que una solución iterativa puede ser más eficiente (ej., $O(n)$). Sin embargo, hay casos donde la recursividad es más intuitiva y resulta en una mejor organización del código, a pesar de tener el mismo orden de complejidad que una versión iterativa.\n",
    "\n",
    "### 4. Explicar la diferencia de rendimiento entre $O(1)$ y $O(𝑛)$\n",
    "\n",
    "La diferencia de rendimiento entre $O(1)$ y $O(n)$ se ve en cómo el tiempo de ejecución del algoritmo varía con el tamaño de la entrada.\n",
    "\n",
    "- **$O(1)$**: Se refiere a tiempo constante, es decir, el tiempo de ejecución no cambia sin importar el tamaño de la entrada. Un ejemplo podría ser una función que recibe parámetros y retorna una operación aritmética concreta,\n",
    "\n",
    "- **$O(n)$**: Indica tiempo lineal, lo que significa que el tiempo de ejecución crece proporcionalmente al tamaño de la entrada. Un ejemplo puede ser un bucle que recorre todos los elementos de una lista de tamaño $n$.\n",
    "\n",
    "### 5. ¿Cómo se calcula el orden en un programa que funciona por etapas?\n",
    "\n",
    "El orden de complejidad en un programa que funciona por etapas se calcula sumando las complejidades de cada etapa si se ejecutan de manera secuencial. Sin embargo, cuando una etapa está anidada dentro de otra (como un bucle dentro de otro), las complejidades se multiplican.\n",
    "\n",
    "Por ejemplo, si tienes una etapa con complejidad $O(n)$ seguida de otra etapa con complejidad $O(m)$, la complejidad total será $O(n + m)$. Si en cambio las etapas están anidadas, como un bucle de $O(n)$ dentro de otro de $O(m)$, la complejidad resultante será $O(n \\cdot m)$. Por ejemplo al recorrer una matriz de $n$ columnas y $n$ filas, se obtiene una complejidad de $O(n^2)$.\n",
    "\n",
    "### 6. ¿Cómo se puede determinar la complejidad temporal de un algoritmo recursivo?\n",
    "\n",
    "La complejidad temporal de un algoritmo recursivo se puede determinar mediante la resolución de la ecuación de recurrencia y luego utilizar el Teorema Maestro. Para ello, se debe expresar el tiempo de ejecución del algoritmo como una función recursiva que describe cómo el problema se divide en subproblemas más pequeños.\n",
    "\n",
    "Se deben obtener los parámetros $p$, $q$ y $Cn^r$ para luego observar su complejidad mediante el teorema según el caso a evaluar."
   ]
  },
  {
   "cell_type": "markdown",
   "metadata": {},
   "source": [
    "## Caminos en una PCB\n",
    "\n",
    "#### Se realizará mediante tres paradigmas, recursivo, iterativo y combinatorial."
   ]
  },
  {
   "cell_type": "code",
   "execution_count": 15,
   "metadata": {},
   "outputs": [],
   "source": [
    "from math import comb\n",
    "import time\n",
    "import matplotlib.pyplot as plt"
   ]
  },
  {
   "cell_type": "code",
   "execution_count": 16,
   "metadata": {},
   "outputs": [],
   "source": [
    "# Se define la clase PCB, en donde se recorren los caminos posibles mediante tres funciones\n",
    "# que utilizan recursividad, iteratividad y combinatoria en su paradigma de implementación.\n",
    "\n",
    "# Inciso 4\n",
    "# Decorador para medir el tiempo de ejecución\n",
    "def execute_time(func):\n",
    "    def nueva_func(*args):\n",
    "        inicio = time.time()\n",
    "        resultado = func(*args)\n",
    "        fin = time.time()\n",
    "        tiempo_ejecucion = fin - inicio\n",
    "        print(\"Se tarda:\", tiempo_ejecucion,\"segundos\")\n",
    "        return resultado, tiempo_ejecucion\n",
    "    return nueva_func\n",
    "\n",
    "# Inciso 3\n",
    "# Decorador de almacenaje de tiempos\n",
    "def time_saver(func):\n",
    "    def nueva_func(self, *args):\n",
    "        inicio = time.time()\n",
    "        resultado = func(self, *args)\n",
    "        fin = time.time()\n",
    "        tiempo_ejecucion = fin - inicio\n",
    "        \n",
    "        # Se guardan los tiempos en una estructura interna de la clase\n",
    "        if not hasattr(self, 'tiempos_ejecucion'):\n",
    "            self.tiempos_ejecucion = {}\n",
    "\n",
    "        self.tiempos_ejecucion[func.__name__] = tiempo_ejecucion    \n",
    "           \n",
    "        return resultado, tiempo_ejecucion\n",
    "    \n",
    "    return nueva_func\n",
    "\n",
    "# Inciso 1\n",
    "class PCB:\n",
    "    def __init__(self, N, M):\n",
    "        self.N = N\n",
    "        self.M = M\n",
    "\n",
    "    # Recursividad\n",
    "    def caminos_recursivo(self, x, y):\n",
    "        # if destino\n",
    "        if x == self.N - 1 and y == self.M - 1:\n",
    "            return 1\n",
    "        # fuera de límites\n",
    "        if x >= self.N or y >= self.M:\n",
    "            return 0\n",
    "        return self.caminos_recursivo(x + 1, y) + self.caminos_recursivo(x, y + 1)\n",
    "    \n",
    "    # Iteratividad\n",
    "    def caminos_iterativo(self):\n",
    "        tabla = [[0 for _ in range(self.M)] for _ in range(self.N)]\n",
    "        \n",
    "        # Punto A\n",
    "        for i in range(self.N):\n",
    "            tabla[i][0] = 1\n",
    "        for j in range(self.M):\n",
    "            tabla[0][j] = 1\n",
    "\n",
    "        # Llenar la tabla iterativamente\n",
    "        for i in range(1, self.N):\n",
    "            for j in range(1, self.M):\n",
    "                tabla[i][j] = tabla[i - 1][j] + tabla[i][j - 1]\n",
    "\n",
    "        # Combinaciones posibles\n",
    "        return tabla[self.N - 1][self.M - 1]\n",
    "    \n",
    "    # Combinatorial\n",
    "    def caminos_combinatoria(self):\n",
    "        return comb(self.N + self.M - 2, self.N - 1)\n",
    "    \n",
    "    # Llamados de funciones\n",
    "    \n",
    "    def ejecutar_recursivo(self):\n",
    "        return self.caminos_recursivo(0, 0)\n",
    "    \n",
    "    \n",
    "    def ejecutar_iterativo(self):\n",
    "        return self.caminos_iterativo()\n",
    "    \n",
    "    \n",
    "    def ejecutar_combinatoria(self):\n",
    "        return self.caminos_combinatoria()\n",
    "    \n",
    "    # Nuevo método para ejecutar el paradigma solicitado\n",
    "    @time_saver\n",
    "    def paradigma(self, paradigma):\n",
    "        if paradigma == \"recursivo\":\n",
    "            return self.caminos_recursivo(0, 0)\n",
    "        elif paradigma == \"iterativo\":\n",
    "            return self.caminos_iterativo()\n",
    "        elif paradigma == \"combinatorial\":\n",
    "            return self.caminos_combinatoria()\n",
    "\n",
    "    # Inciso 2\n",
    "    # Tiempo de ejecución\n",
    "    def execute_time(self, func, *args):\n",
    "        inicio = time.time()\n",
    "        resultado = func(*args)\n",
    "        fin = time.time()\n",
    "        tiempo_ejecucion = fin - inicio\n",
    "        print(\"Se tarda:\", tiempo_ejecucion, \"segundos\")\n",
    "        return resultado\n",
    "    \n",
    "    "
   ]
  },
  {
   "cell_type": "code",
   "execution_count": 17,
   "metadata": {},
   "outputs": [],
   "source": [
    "pcb = PCB(10, 10)\n",
    "\n",
    "# Tests\n",
    "assert pcb.caminos_recursivo(0, 0) == pcb.caminos_iterativo() == pcb.caminos_combinatoria()"
   ]
  },
  {
   "cell_type": "code",
   "execution_count": 18,
   "metadata": {},
   "outputs": [
    {
     "name": "stdout",
     "output_type": "stream",
     "text": [
      "Se tarda: 0.030027151107788086 segundos\n",
      "48620\n",
      "\n",
      "Se tarda: 0.0 segundos\n",
      "48620\n",
      "\n",
      "Se tarda: 0.0 segundos\n",
      "48620\n"
     ]
    }
   ],
   "source": [
    "# Tiempo de ejecución y cantidad de caminos posibles\n",
    "print(pcb.execute_time(pcb.caminos_recursivo, 0, 0))\n",
    "print()\n",
    "print(pcb.execute_time(pcb.caminos_iterativo))\n",
    "print()\n",
    "print(pcb.execute_time(pcb.caminos_combinatoria))"
   ]
  },
  {
   "cell_type": "code",
   "execution_count": 19,
   "metadata": {},
   "outputs": [
    {
     "name": "stdout",
     "output_type": "stream",
     "text": [
      "(48620, 0.027025699615478516)\n",
      "(48620, 0.0)\n",
      "(48620, 0.0)\n"
     ]
    }
   ],
   "source": [
    "# Tests con decoradores\n",
    "print(pcb.paradigma(\"recursivo\"))\n",
    "print(pcb.paradigma(\"iterativo\"))\n",
    "print(pcb.paradigma(\"combinatorial\"))"
   ]
  },
  {
   "cell_type": "code",
   "execution_count": 20,
   "metadata": {},
   "outputs": [],
   "source": [
    "# Graficador de tiempos\n",
    "def graficar_tiempos(size):\n",
    "    sizes = list(range(2, size + 1))\n",
    "    tiempos_recursivo = []\n",
    "    tiempos_iterativo = []\n",
    "    tiempos_combinatorial = []\n",
    "\n",
    "    for size in sizes:\n",
    "        pcb = PCB(size, size)\n",
    "        _, tiempo_recursivo = pcb.paradigma(\"recursivo\")\n",
    "        _, tiempo_iterativo = pcb.paradigma(\"iterativo\")\n",
    "        _, tiempo_combinatorial = pcb.paradigma(\"combinatorial\")\n",
    "        \n",
    "        tiempos_recursivo.append(tiempo_recursivo)\n",
    "        tiempos_iterativo.append(tiempo_iterativo)\n",
    "        tiempos_combinatorial.append(tiempo_combinatorial)\n",
    "\n",
    "    plt.plot(sizes, tiempos_recursivo, label=\"Recursivo\")\n",
    "    plt.plot(sizes, tiempos_iterativo, label=\"Iterativo\")\n",
    "    plt.plot(sizes, tiempos_combinatorial, label=\"Combinatorial\")\n",
    "\n",
    "    plt.title(\"Tiempo de ejecución de los paradigmas\")\n",
    "    plt.xlabel(\"Tamaño de la matriz\")\n",
    "    plt.ylabel(\"Tiempo de ejecución (segundos)\")\n",
    "    plt.legend()\n",
    "    plt.grid(True)\n",
    "    plt.show()\n",
    "    "
   ]
  },
  {
   "cell_type": "code",
   "execution_count": 21,
   "metadata": {},
   "outputs": [
    {
     "data": {
      "image/png": "[encoded data removed]",
      "text/plain": [
       "<Figure size 640x480 with 1 Axes>"
      ]
     },
     "metadata": {},
     "output_type": "display_data"
    }
   ],
   "source": [
    "graficar_tiempos(13)"
   ]
  }
 ],
 "metadata": {
  "kernelspec": {
   "display_name": "intelli",
   "language": "python",
   "name": "python3"
  },
  "language_info": {
   "codemirror_mode": {
    "name": "ipython",
    "version": 3
   },
   "file_extension": ".py",
   "mimetype": "text/x-python",
   "name": "python",
   "nbconvert_exporter": "python",
   "pygments_lexer": "ipython3",
   "version": "3.12.4"
  }
 },
 "nbformat": 4,
 "nbformat_minor": 2
}
